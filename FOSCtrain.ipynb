{
  "nbformat": 4,
  "nbformat_minor": 0,
  "metadata": {
    "colab": {
      "name": "FOSCtrain.ipynb",
      "provenance": [],
      "collapsed_sections": []
    },
    "kernelspec": {
      "name": "python3",
      "display_name": "Python 3"
    },
    "language_info": {
      "name": "python"
    },
    "accelerator": "GPU"
  },
  "cells": [
    {
      "cell_type": "code",
      "execution_count": 1,
      "metadata": {
        "colab": {
          "base_uri": "https://localhost:8080/"
        },
        "id": "WkDYD-GeiP7Q",
        "outputId": "0d8e8682-f438-4da6-87e0-ceb9463a8481"
      },
      "outputs": [
        {
          "output_type": "stream",
          "name": "stdout",
          "text": [
            "Python 3.7.12\n"
          ]
        }
      ],
      "source": [
        "!python --version"
      ]
    },
    {
      "cell_type": "code",
      "source": [
        "!pip3 install transformers"
      ],
      "metadata": {
        "colab": {
          "base_uri": "https://localhost:8080/"
        },
        "id": "f3lvq-FPidKi",
        "outputId": "add15c44-00e3-4f69-9632-9a9e913e641f"
      },
      "execution_count": 2,
      "outputs": [
        {
          "output_type": "stream",
          "name": "stdout",
          "text": [
            "Requirement already satisfied: transformers in /usr/local/lib/python3.7/dist-packages (4.17.0)\n",
            "Requirement already satisfied: importlib-metadata in /usr/local/lib/python3.7/dist-packages (from transformers) (4.11.2)\n",
            "Requirement already satisfied: requests in /usr/local/lib/python3.7/dist-packages (from transformers) (2.23.0)\n",
            "Requirement already satisfied: tqdm>=4.27 in /usr/local/lib/python3.7/dist-packages (from transformers) (4.63.0)\n",
            "Requirement already satisfied: regex!=2019.12.17 in /usr/local/lib/python3.7/dist-packages (from transformers) (2019.12.20)\n",
            "Requirement already satisfied: packaging>=20.0 in /usr/local/lib/python3.7/dist-packages (from transformers) (21.3)\n",
            "Requirement already satisfied: sacremoses in /usr/local/lib/python3.7/dist-packages (from transformers) (0.0.47)\n",
            "Requirement already satisfied: numpy>=1.17 in /usr/local/lib/python3.7/dist-packages (from transformers) (1.21.5)\n",
            "Requirement already satisfied: huggingface-hub<1.0,>=0.1.0 in /usr/local/lib/python3.7/dist-packages (from transformers) (0.4.0)\n",
            "Requirement already satisfied: tokenizers!=0.11.3,>=0.11.1 in /usr/local/lib/python3.7/dist-packages (from transformers) (0.11.6)\n",
            "Requirement already satisfied: filelock in /usr/local/lib/python3.7/dist-packages (from transformers) (3.6.0)\n",
            "Requirement already satisfied: pyyaml>=5.1 in /usr/local/lib/python3.7/dist-packages (from transformers) (6.0)\n",
            "Requirement already satisfied: typing-extensions>=3.7.4.3 in /usr/local/lib/python3.7/dist-packages (from huggingface-hub<1.0,>=0.1.0->transformers) (3.10.0.2)\n",
            "Requirement already satisfied: pyparsing!=3.0.5,>=2.0.2 in /usr/local/lib/python3.7/dist-packages (from packaging>=20.0->transformers) (3.0.7)\n",
            "Requirement already satisfied: zipp>=0.5 in /usr/local/lib/python3.7/dist-packages (from importlib-metadata->transformers) (3.7.0)\n",
            "Requirement already satisfied: certifi>=2017.4.17 in /usr/local/lib/python3.7/dist-packages (from requests->transformers) (2021.10.8)\n",
            "Requirement already satisfied: urllib3!=1.25.0,!=1.25.1,<1.26,>=1.21.1 in /usr/local/lib/python3.7/dist-packages (from requests->transformers) (1.24.3)\n",
            "Requirement already satisfied: chardet<4,>=3.0.2 in /usr/local/lib/python3.7/dist-packages (from requests->transformers) (3.0.4)\n",
            "Requirement already satisfied: idna<3,>=2.5 in /usr/local/lib/python3.7/dist-packages (from requests->transformers) (2.10)\n",
            "Requirement already satisfied: click in /usr/local/lib/python3.7/dist-packages (from sacremoses->transformers) (7.1.2)\n",
            "Requirement already satisfied: joblib in /usr/local/lib/python3.7/dist-packages (from sacremoses->transformers) (1.1.0)\n",
            "Requirement already satisfied: six in /usr/local/lib/python3.7/dist-packages (from sacremoses->transformers) (1.15.0)\n"
          ]
        }
      ]
    },
    {
      "cell_type": "code",
      "source": [
        "from google.colab import drive\n",
        "drive.mount('/content/drive')"
      ],
      "metadata": {
        "colab": {
          "base_uri": "https://localhost:8080/"
        },
        "id": "u4b9V3T-iUk4",
        "outputId": "309f7f15-9d0d-4abe-dd62-b4782fde6db2"
      },
      "execution_count": 3,
      "outputs": [
        {
          "output_type": "stream",
          "name": "stdout",
          "text": [
            "Drive already mounted at /content/drive; to attempt to forcibly remount, call drive.mount(\"/content/drive\", force_remount=True).\n"
          ]
        }
      ]
    },
    {
      "cell_type": "code",
      "source": [
        "from pathlib import Path\n",
        "# path to train.csv test.csv and test_labels.csv\n",
        "data_dir = Path(\"/content/drive/MyDrive/data/foscdata\")"
      ],
      "metadata": {
        "id": "uB6J5lESj8wO"
      },
      "execution_count": 4,
      "outputs": []
    },
    {
      "cell_type": "code",
      "source": [
        "import numpy as np\n",
        "import pandas as pd\n",
        "from sklearn.metrics import accuracy_score, precision_score, recall_score, f1_score\n",
        "import transformers\n",
        "print(f\"Running on transformers v{transformers.__version__}\")"
      ],
      "metadata": {
        "colab": {
          "base_uri": "https://localhost:8080/"
        },
        "id": "BEVIghsEipzC",
        "outputId": "5b58c64b-6f94-45bf-8007-5f0414f54f33"
      },
      "execution_count": 5,
      "outputs": [
        {
          "output_type": "stream",
          "name": "stdout",
          "text": [
            "Running on transformers v4.17.0\n"
          ]
        }
      ]
    },
    {
      "cell_type": "code",
      "source": [
        "def onehot(row):\n",
        "    return [float(l.strip('[]')) for l in row['labelsI'].split()]"
      ],
      "metadata": {
        "id": "jw0ZKo1ritN9"
      },
      "execution_count": 6,
      "outputs": []
    },
    {
      "cell_type": "code",
      "source": [
        "def fetch_data(train_, test_):\n",
        "\n",
        "    # foscdata/train_train.csv \n",
        "    # foscdata/train_val.csv \n",
        "\n",
        "    # foscdata/train.csv \n",
        "    # foscdata/test.csv\n",
        "    # reading either train/test pair of the above datasets;\n",
        "\n",
        "    train_df = pd.read_csv(train_)\n",
        "    train_df['labels'] = train_df.apply(onehot, axis=1)\n",
        "    train_df = train_df[['payload', 'labels']]\n",
        "    train_df = train_df.sample(n=256000)\n",
        "\n",
        "    #sample = train_df.sample(n=512)\n",
        "    #mask = np.random.rand(len(sample)) < 0.8\n",
        "    #train_sample = sample[mask]\n",
        "    #test_sample = sample[~mask]\n",
        "\n",
        "    test_df = pd.read_csv(test_)\n",
        "    test_df['labels'] = test_df.apply(onehot, axis=1)\n",
        "    test_df = test_df[['payload', 'labels']]\n",
        "    test_df = test_df.sample(n=32000)\n",
        "\n",
        "    return train_df, test_df"
      ],
      "metadata": {
        "id": "sG5azaOSivS2"
      },
      "execution_count": 7,
      "outputs": []
    },
    {
      "cell_type": "code",
      "source": [
        "def compute_metrics(eval_pred):\n",
        "\n",
        "    preds, labels = eval_pred\n",
        "    metrics_ = dict()\n",
        "    preds = np.array(preds) >= 0.5\n",
        "    metrics_['accuracy'] = accuracy_score(labels, preds)\n",
        "    metrics_['micro-precision'] = precision_score(labels, preds, average='micro', zero_division=0)\n",
        "    metrics_['macro-precision'] = precision_score(labels, preds, average='macro', zero_division=0)\n",
        "    metrics_['micro-recall'] = recall_score(labels, preds, average='micro', zero_division=0)\n",
        "    metrics_['macro-recall'] = recall_score(labels, preds, average='macro', zero_division=0)\n",
        "    metrics_['micro-f1'] = f1_score(labels, preds, average='micro', zero_division=0)\n",
        "    metrics_['macro-f1'] = f1_score(labels, preds, average='macro', zero_division=0)\n",
        "\n",
        "    print('\\n' + 'accuracy: {}'.format(metrics_['accuracy']) + '\\n')\n",
        "    print('micro-precision: {}'.format(metrics_['micro-precision']) + '.\\n')\n",
        "    print('macro-precision: {}'.format(metrics_['macro-precision']) + '.\\n')\n",
        "    print('micro-recall: {}'.format(metrics_['micro-recall']) + '.\\n')\n",
        "    print('macro-recall: {}'.format(metrics_['macro-recall']) + '.\\n')\n",
        "    print('micro-f1: {}'.format(metrics_['micro-f1']) + '.\\n')\n",
        "    print('macro-f1: {}'.format(metrics_['macro-f1']) + '.\\n')\n",
        "\n",
        "    return metrics_"
      ],
      "metadata": {
        "id": "imSbUlTtizfd"
      },
      "execution_count": 8,
      "outputs": []
    },
    {
      "cell_type": "code",
      "source": [
        "import torch\n",
        "\n",
        "class FOSCDataset(torch.utils.data.Dataset):\n",
        "    def __init__(self, encodings, labels):\n",
        "        self.encodings = encodings\n",
        "        self.labels = labels\n",
        "\n",
        "    def __getitem__(self, idx):\n",
        "        item = {key: torch.tensor(val[idx]) for key, val in self.encodings.items()}\n",
        "        item['labels'] = torch.tensor(self.labels[idx])\n",
        "        return item\n",
        "\n",
        "    def __len__(self):\n",
        "        return len(self.labels)"
      ],
      "metadata": {
        "id": "k_7SeBBPi6LC"
      },
      "execution_count": 9,
      "outputs": []
    },
    {
      "cell_type": "code",
      "source": [
        "from transformers import (AutoTokenizer, AutoModelForSequenceClassification, \n",
        "                          PreTrainedModel, BertModel, BertForSequenceClassification,\n",
        "                          TrainingArguments, Trainer)\n",
        "from transformers.modeling_outputs import SequenceClassifierOutput\n",
        "\n",
        "\n",
        "class FOSCModel:\n",
        "    def __init__(self, model_ckpt, num_labels):\n",
        "\n",
        "        self.tokenizer = AutoTokenizer.from_pretrained(\n",
        "            model_ckpt, \n",
        "            problem_type='multi_label_classification')\n",
        "\n",
        "        self.model = AutoModelForSequenceClassification.from_pretrained(\n",
        "            model_ckpt, \n",
        "            num_labels=num_labels, \n",
        "            problem_type='multi_label_classification')\n",
        "\n",
        "        self.args = TrainingArguments(\n",
        "            output_dir='fosc_ckpts',\n",
        "            per_device_train_batch_size=16,\n",
        "            per_device_eval_batch_size=16,\n",
        "            num_train_epochs=2,\n",
        "            evaluation_strategy = 'epoch',\n",
        "            save_strategy='epoch',\n",
        "            learning_rate=2e-5,\n",
        "            load_best_model_at_end=True,\n",
        "            weight_decay=0.01,\n",
        "            seed=42\n",
        "            )"
      ],
      "metadata": {
        "id": "jLV8liVqjB_Q"
      },
      "execution_count": 10,
      "outputs": []
    },
    {
      "cell_type": "code",
      "source": [
        "#trainer\n",
        "class FOSCTrainer:\n",
        "    def __init__(self, model_, args_, tokenizer_, train_, test_):\n",
        "        self.trainer = Trainer(\n",
        "            model_,\n",
        "            args_,\n",
        "            tokenizer=tokenizer_,\n",
        "            train_dataset=train_,\n",
        "            eval_dataset=test_,\n",
        "            compute_metrics=compute_metrics\n",
        "            )"
      ],
      "metadata": {
        "id": "ExCYR7x_jeJx"
      },
      "execution_count": 11,
      "outputs": []
    },
    {
      "cell_type": "code",
      "source": [
        "#run\n",
        "if __name__ == \"__main__\":\n",
        "\n",
        "    #gpu\n",
        "    device = 'cuda' if torch.cuda.is_available() else 'cpu'\n",
        "\n",
        "    #load data\n",
        "    train, val = fetch_data(data_dir/'train_train.csv', data_dir/'train_val.csv')\n",
        "    print('Data loaded successfully.')\n",
        "\n",
        "    #AutoModelForSequenceClassification from model.py\n",
        "    fosc_m = FOSCModel(\n",
        "        model_ckpt='allenai/scibert_scivocab_uncased', \n",
        "        num_labels=20,\n",
        "        )\n",
        "    print('FOSCModel instantiated.')\n",
        "\n",
        "    #AutoTokenizer from model.py\n",
        "    tokenizer = fosc_m.tokenizer\n",
        "    print('Tokenizer instantiated.')\n",
        "\n",
        "    #train dataset\n",
        "    train_encodings = tokenizer(train['payload'].values.tolist(), truncation=True, max_length=128)\n",
        "    train_labels = train['labels'].values.tolist()\n",
        "    #test dataset\n",
        "    test_encodings = tokenizer(val['payload'].values.tolist(), truncation=True, max_length=128)\n",
        "    test_labels = val['labels'].values.tolist()\n",
        "\n",
        "    #custom dataloaders from dataset.py\n",
        "    train_dataset = FOSCDataset(train_encodings, train_labels)\n",
        "    test_dataset = FOSCDataset(test_encodings, test_labels)\n",
        "    print('Dataloaders instantiated.')\n",
        "\n",
        "    #model\n",
        "    model = fosc_m.model.to(device)\n",
        "    print('Model instantiated.')\n",
        "\n",
        "    #args\n",
        "    args = fosc_m.args\n",
        "\n",
        "    print('Trainer arguments set.')\n",
        "\n",
        "    #trainer\n",
        "    fosc_t = FOSCTrainer(\n",
        "        model_=model,\n",
        "        args_=args,\n",
        "        tokenizer_=tokenizer,\n",
        "        train_=train_dataset,\n",
        "        test_=test_dataset\n",
        "        )\n",
        "\n",
        "    trainer = fosc_t.trainer\n",
        "    print('Trainer now running:')\n",
        "\n",
        "    #train\n",
        "    trainer.train()\n",
        "\n",
        "    #val\n",
        "    trainer.evaluate()\n"
      ],
      "metadata": {
        "colab": {
          "base_uri": "https://localhost:8080/",
          "height": 544
        },
        "id": "5Aochd1IjMES",
        "outputId": "dc5ea55f-4084-4e83-fbc6-588f843a7dcf"
      },
      "execution_count": null,
      "outputs": [
        {
          "output_type": "stream",
          "name": "stdout",
          "text": [
            "Data loaded successfully.\n"
          ]
        },
        {
          "output_type": "stream",
          "name": "stderr",
          "text": [
            "Some weights of the model checkpoint at allenai/scibert_scivocab_uncased were not used when initializing BertForSequenceClassification: ['cls.predictions.transform.dense.weight', 'cls.seq_relationship.weight', 'cls.predictions.bias', 'cls.seq_relationship.bias', 'cls.predictions.transform.LayerNorm.weight', 'cls.predictions.decoder.bias', 'cls.predictions.transform.dense.bias', 'cls.predictions.decoder.weight', 'cls.predictions.transform.LayerNorm.bias']\n",
            "- This IS expected if you are initializing BertForSequenceClassification from the checkpoint of a model trained on another task or with another architecture (e.g. initializing a BertForSequenceClassification model from a BertForPreTraining model).\n",
            "- This IS NOT expected if you are initializing BertForSequenceClassification from the checkpoint of a model that you expect to be exactly identical (initializing a BertForSequenceClassification model from a BertForSequenceClassification model).\n",
            "Some weights of BertForSequenceClassification were not initialized from the model checkpoint at allenai/scibert_scivocab_uncased and are newly initialized: ['classifier.bias', 'classifier.weight']\n",
            "You should probably TRAIN this model on a down-stream task to be able to use it for predictions and inference.\n"
          ]
        },
        {
          "output_type": "stream",
          "name": "stdout",
          "text": [
            "FOSCModel instantiated.\n",
            "Tokenizer instantiated.\n",
            "Dataloaders instantiated.\n"
          ]
        },
        {
          "output_type": "stream",
          "name": "stderr",
          "text": [
            "/usr/local/lib/python3.7/dist-packages/transformers/optimization.py:309: FutureWarning: This implementation of AdamW is deprecated and will be removed in a future version. Use the PyTorch implementation torch.optim.AdamW instead, or set `no_deprecation_warning=True` to disable this warning\n",
            "  FutureWarning,\n",
            "***** Running training *****\n",
            "  Num examples = 256000\n",
            "  Num Epochs = 2\n",
            "  Instantaneous batch size per device = 16\n",
            "  Total train batch size (w. parallel, distributed & accumulation) = 16\n",
            "  Gradient Accumulation steps = 1\n",
            "  Total optimization steps = 32000\n"
          ]
        },
        {
          "output_type": "stream",
          "name": "stdout",
          "text": [
            "Model instantiated.\n",
            "Trainer arguments set.\n",
            "Trainer now running:\n"
          ]
        },
        {
          "output_type": "display_data",
          "data": {
            "text/plain": [
              "<IPython.core.display.HTML object>"
            ],
            "text/html": [
              "\n",
              "    <div>\n",
              "      \n",
              "      <progress value='16001' max='32000' style='width:300px; height:20px; vertical-align: middle;'></progress>\n",
              "      [16001/32000 3:09:55 < 3:09:55, 1.40 it/s, Epoch 1/2]\n",
              "    </div>\n",
              "    <table border=\"1\" class=\"dataframe\">\n",
              "  <thead>\n",
              " <tr style=\"text-align: left;\">\n",
              "      <th>Epoch</th>\n",
              "      <th>Training Loss</th>\n",
              "      <th>Validation Loss</th>\n",
              "    </tr>\n",
              "  </thead>\n",
              "  <tbody>\n",
              "  </tbody>\n",
              "</table><p>\n",
              "    <div>\n",
              "      \n",
              "      <progress value='1570' max='2000' style='width:300px; height:20px; vertical-align: middle;'></progress>\n",
              "      [1570/2000 05:52 < 01:36, 4.45 it/s]\n",
              "    </div>\n",
              "    "
            ]
          },
          "metadata": {}
        },
        {
          "output_type": "stream",
          "name": "stderr",
          "text": [
            "***** Running Evaluation *****\n",
            "  Num examples = 32000\n",
            "  Batch size = 16\n"
          ]
        }
      ]
    }
  ]
}